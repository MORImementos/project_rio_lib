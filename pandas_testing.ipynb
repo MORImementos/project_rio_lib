{
 "cells": [
  {
   "cell_type": "code",
   "execution_count": 1,
   "metadata": {
    "collapsed": true
   },
   "outputs": [],
   "source": [
    "import pandas as pd\n",
    "from test_examples import LandingData\n"
   ]
  },
  {
   "cell_type": "code",
   "execution_count": 2,
   "outputs": [],
   "source": [
    "data = pd.read_parquet('combined_stadium_data.parquet')\n",
    "ld = LandingData(data)\n",
    "data = ld.data"
   ],
   "metadata": {
    "collapsed": false
   }
  },
  {
   "cell_type": "code",
   "execution_count": 9,
   "outputs": [
    {
     "data": {
      "text/plain": "Single                     74848\nCaught (Line Drive)        71889\nOut                        27919\nCaught (Anything Else)     17412\nDouble                     14504\nHR                          9575\nFoul Catch                  2789\nGround Ball Double Play     2335\nSac Fly                     1608\nTriple                      1595\nName: final_result_str, dtype: int64"
     },
     "execution_count": 9,
     "metadata": {},
     "output_type": "execute_result"
    }
   ],
   "source": [
    "df = data"
   ],
   "metadata": {
    "collapsed": false
   }
  },
  {
   "cell_type": "code",
   "execution_count": 10,
   "outputs": [],
   "source": [
    "contact_filter = (df['type_of_contact_str'] == \"Nice - Left\") | (df['type_of_contact_str'] == \"Nice - Right\") | (df['type_of_contact_str'] == \"Perfect\")\n",
    "contact_filtered_df = df[contact_filter]"
   ],
   "metadata": {
    "collapsed": false
   }
  },
  {
   "cell_type": "code",
   "execution_count": 11,
   "outputs": [
    {
     "data": {
      "text/plain": "        ball_hang_time  ball_horiz_angle  ball_max_height  ball_power  \\\n9                155.0               342         11.74760         124   \n114              111.0               226          6.28832         127   \n143              127.0               269          8.08388         124   \n166              150.0               316         10.99840         129   \n167               96.0               189          4.89634         125   \n...                ...               ...              ...         ...   \n263609           203.0               499         22.54570         143   \n263610           174.0               366         16.86220         157   \n263612            69.0               162          3.92836         157   \n263615            62.0               101          2.62725         163   \n263617            67.0               161          3.87301         152   \n\n        ball_vert_angle  ball_x_contact_pos  ball_x_landing_pos  \\\n9                  1226            0.516020           -34.71420   \n114                 667           -0.164104            29.62450   \n143                1131           -0.946759           -10.23230   \n166                 620           -0.031063            40.79560   \n167                1356            0.787539           -25.54230   \n...                 ...                 ...                 ...   \n263609              782           -0.128523            27.31550   \n263610             1259           -0.434432           -31.72200   \n263612             1076            0.568003            -2.44546   \n263615             1240            0.262511           -12.50700   \n263617             1235            0.100138           -12.30560   \n\n        ball_x_velocity  ball_y_landing_pos  ball_y_velocity  ...  \\\n9             -0.163631            1.964560         0.310549  ...   \n114            0.310953            0.169059         0.215758  ...   \n143           -0.092805            0.215500         0.248639  ...   \n166            0.331467            0.242146         0.300555  ...   \n167           -0.292002            0.215159         0.178674  ...   \n...                 ...                 ...              ...  ...   \n263609         0.187023            2.849680         0.495399  ...   \n263610        -0.234387            1.783890         0.417936  ...   \n263612        -0.060629            0.228747         0.193075  ...   \n263615        -0.261952            1.499320         0.125765  ...   \n263617        -0.234382            2.382770         0.185796  ...   \n\n        fielding_hand_str        final_result_str  manual_select_state_str  \\\n9                   Right     Caught (Line Drive)  Invalid ID or Name: 0.0   \n114                 Right                  Single  Invalid ID or Name: 0.0   \n143                 Right                  Single  Invalid ID or Name: 0.0   \n166                  Left                  Single  Invalid ID or Name: 0.0   \n167                 Right                  Single  Invalid ID or Name: 0.0   \n...                   ...                     ...                      ...   \n263609              Right     Caught (Line Drive)  Invalid ID or Name: 0.0   \n263610              Right     Caught (Line Drive)  Invalid ID or Name: 0.0   \n263612              Right                  Single  Invalid ID or Name: 0.0   \n263615              Right  Caught (Anything Else)  Invalid ID or Name: 0.0   \n263617              Right     Caught (Line Drive)  Invalid ID or Name: 0.0   \n\n        stick_input_str type_of_contact_str  type_of_swing_str    stadium_str  \\\n9                  Left        Nice - Right               Slap  Mario Stadium   \n114               Right        Nice - Right               Slap  Mario Stadium   \n143                Left         Nice - Left               Slap  Mario Stadium   \n166       Down and Left         Nice - Left               Slap  Mario Stadium   \n167                Left         Nice - Left               Slap  Mario Stadium   \n...                 ...                 ...                ...            ...   \n263609            Right        Nice - Right               Star      DK Jungle   \n263610            Right        Nice - Right               Star      DK Jungle   \n263612            Right        Nice - Right               Star      DK Jungle   \n263615             Down        Nice - Right               Star      DK Jungle   \n263617             None        Nice - Right               Star      DK Jungle   \n\n        rng_value    hit    out  \n9              92  False   True  \n114            76   True  False  \n143            69   True  False  \n166            66   True  False  \n167            39   True  False  \n...           ...    ...    ...  \n263609         99  False   True  \n263610         66  False   True  \n263612         87   True  False  \n263615          1  False   True  \n263617          4  False   True  \n\n[176332 rows x 58 columns]",
      "text/html": "<div>\n<style scoped>\n    .dataframe tbody tr th:only-of-type {\n        vertical-align: middle;\n    }\n\n    .dataframe tbody tr th {\n        vertical-align: top;\n    }\n\n    .dataframe thead th {\n        text-align: right;\n    }\n</style>\n<table border=\"1\" class=\"dataframe\">\n  <thead>\n    <tr style=\"text-align: right;\">\n      <th></th>\n      <th>ball_hang_time</th>\n      <th>ball_horiz_angle</th>\n      <th>ball_max_height</th>\n      <th>ball_power</th>\n      <th>ball_vert_angle</th>\n      <th>ball_x_contact_pos</th>\n      <th>ball_x_landing_pos</th>\n      <th>ball_x_velocity</th>\n      <th>ball_y_landing_pos</th>\n      <th>ball_y_velocity</th>\n      <th>...</th>\n      <th>fielding_hand_str</th>\n      <th>final_result_str</th>\n      <th>manual_select_state_str</th>\n      <th>stick_input_str</th>\n      <th>type_of_contact_str</th>\n      <th>type_of_swing_str</th>\n      <th>stadium_str</th>\n      <th>rng_value</th>\n      <th>hit</th>\n      <th>out</th>\n    </tr>\n  </thead>\n  <tbody>\n    <tr>\n      <th>9</th>\n      <td>155.0</td>\n      <td>342</td>\n      <td>11.74760</td>\n      <td>124</td>\n      <td>1226</td>\n      <td>0.516020</td>\n      <td>-34.71420</td>\n      <td>-0.163631</td>\n      <td>1.964560</td>\n      <td>0.310549</td>\n      <td>...</td>\n      <td>Right</td>\n      <td>Caught (Line Drive)</td>\n      <td>Invalid ID or Name: 0.0</td>\n      <td>Left</td>\n      <td>Nice - Right</td>\n      <td>Slap</td>\n      <td>Mario Stadium</td>\n      <td>92</td>\n      <td>False</td>\n      <td>True</td>\n    </tr>\n    <tr>\n      <th>114</th>\n      <td>111.0</td>\n      <td>226</td>\n      <td>6.28832</td>\n      <td>127</td>\n      <td>667</td>\n      <td>-0.164104</td>\n      <td>29.62450</td>\n      <td>0.310953</td>\n      <td>0.169059</td>\n      <td>0.215758</td>\n      <td>...</td>\n      <td>Right</td>\n      <td>Single</td>\n      <td>Invalid ID or Name: 0.0</td>\n      <td>Right</td>\n      <td>Nice - Right</td>\n      <td>Slap</td>\n      <td>Mario Stadium</td>\n      <td>76</td>\n      <td>True</td>\n      <td>False</td>\n    </tr>\n    <tr>\n      <th>143</th>\n      <td>127.0</td>\n      <td>269</td>\n      <td>8.08388</td>\n      <td>124</td>\n      <td>1131</td>\n      <td>-0.946759</td>\n      <td>-10.23230</td>\n      <td>-0.092805</td>\n      <td>0.215500</td>\n      <td>0.248639</td>\n      <td>...</td>\n      <td>Right</td>\n      <td>Single</td>\n      <td>Invalid ID or Name: 0.0</td>\n      <td>Left</td>\n      <td>Nice - Left</td>\n      <td>Slap</td>\n      <td>Mario Stadium</td>\n      <td>69</td>\n      <td>True</td>\n      <td>False</td>\n    </tr>\n    <tr>\n      <th>166</th>\n      <td>150.0</td>\n      <td>316</td>\n      <td>10.99840</td>\n      <td>129</td>\n      <td>620</td>\n      <td>-0.031063</td>\n      <td>40.79560</td>\n      <td>0.331467</td>\n      <td>0.242146</td>\n      <td>0.300555</td>\n      <td>...</td>\n      <td>Left</td>\n      <td>Single</td>\n      <td>Invalid ID or Name: 0.0</td>\n      <td>Down and Left</td>\n      <td>Nice - Left</td>\n      <td>Slap</td>\n      <td>Mario Stadium</td>\n      <td>66</td>\n      <td>True</td>\n      <td>False</td>\n    </tr>\n    <tr>\n      <th>167</th>\n      <td>96.0</td>\n      <td>189</td>\n      <td>4.89634</td>\n      <td>125</td>\n      <td>1356</td>\n      <td>0.787539</td>\n      <td>-25.54230</td>\n      <td>-0.292002</td>\n      <td>0.215159</td>\n      <td>0.178674</td>\n      <td>...</td>\n      <td>Right</td>\n      <td>Single</td>\n      <td>Invalid ID or Name: 0.0</td>\n      <td>Left</td>\n      <td>Nice - Left</td>\n      <td>Slap</td>\n      <td>Mario Stadium</td>\n      <td>39</td>\n      <td>True</td>\n      <td>False</td>\n    </tr>\n    <tr>\n      <th>...</th>\n      <td>...</td>\n      <td>...</td>\n      <td>...</td>\n      <td>...</td>\n      <td>...</td>\n      <td>...</td>\n      <td>...</td>\n      <td>...</td>\n      <td>...</td>\n      <td>...</td>\n      <td>...</td>\n      <td>...</td>\n      <td>...</td>\n      <td>...</td>\n      <td>...</td>\n      <td>...</td>\n      <td>...</td>\n      <td>...</td>\n      <td>...</td>\n      <td>...</td>\n      <td>...</td>\n    </tr>\n    <tr>\n      <th>263609</th>\n      <td>203.0</td>\n      <td>499</td>\n      <td>22.54570</td>\n      <td>143</td>\n      <td>782</td>\n      <td>-0.128523</td>\n      <td>27.31550</td>\n      <td>0.187023</td>\n      <td>2.849680</td>\n      <td>0.495399</td>\n      <td>...</td>\n      <td>Right</td>\n      <td>Caught (Line Drive)</td>\n      <td>Invalid ID or Name: 0.0</td>\n      <td>Right</td>\n      <td>Nice - Right</td>\n      <td>Star</td>\n      <td>DK Jungle</td>\n      <td>99</td>\n      <td>False</td>\n      <td>True</td>\n    </tr>\n    <tr>\n      <th>263610</th>\n      <td>174.0</td>\n      <td>366</td>\n      <td>16.86220</td>\n      <td>157</td>\n      <td>1259</td>\n      <td>-0.434432</td>\n      <td>-31.72200</td>\n      <td>-0.234387</td>\n      <td>1.783890</td>\n      <td>0.417936</td>\n      <td>...</td>\n      <td>Right</td>\n      <td>Caught (Line Drive)</td>\n      <td>Invalid ID or Name: 0.0</td>\n      <td>Right</td>\n      <td>Nice - Right</td>\n      <td>Star</td>\n      <td>DK Jungle</td>\n      <td>66</td>\n      <td>False</td>\n      <td>True</td>\n    </tr>\n    <tr>\n      <th>263612</th>\n      <td>69.0</td>\n      <td>162</td>\n      <td>3.92836</td>\n      <td>157</td>\n      <td>1076</td>\n      <td>0.568003</td>\n      <td>-2.44546</td>\n      <td>-0.060629</td>\n      <td>0.228747</td>\n      <td>0.193075</td>\n      <td>...</td>\n      <td>Right</td>\n      <td>Single</td>\n      <td>Invalid ID or Name: 0.0</td>\n      <td>Right</td>\n      <td>Nice - Right</td>\n      <td>Star</td>\n      <td>DK Jungle</td>\n      <td>87</td>\n      <td>True</td>\n      <td>False</td>\n    </tr>\n    <tr>\n      <th>263615</th>\n      <td>62.0</td>\n      <td>101</td>\n      <td>2.62725</td>\n      <td>163</td>\n      <td>1240</td>\n      <td>0.262511</td>\n      <td>-12.50700</td>\n      <td>-0.261952</td>\n      <td>1.499320</td>\n      <td>0.125765</td>\n      <td>...</td>\n      <td>Right</td>\n      <td>Caught (Anything Else)</td>\n      <td>Invalid ID or Name: 0.0</td>\n      <td>Down</td>\n      <td>Nice - Right</td>\n      <td>Star</td>\n      <td>DK Jungle</td>\n      <td>1</td>\n      <td>False</td>\n      <td>True</td>\n    </tr>\n    <tr>\n      <th>263617</th>\n      <td>67.0</td>\n      <td>161</td>\n      <td>3.87301</td>\n      <td>152</td>\n      <td>1235</td>\n      <td>0.100138</td>\n      <td>-12.30560</td>\n      <td>-0.234382</td>\n      <td>2.382770</td>\n      <td>0.185796</td>\n      <td>...</td>\n      <td>Right</td>\n      <td>Caught (Line Drive)</td>\n      <td>Invalid ID or Name: 0.0</td>\n      <td>None</td>\n      <td>Nice - Right</td>\n      <td>Star</td>\n      <td>DK Jungle</td>\n      <td>4</td>\n      <td>False</td>\n      <td>True</td>\n    </tr>\n  </tbody>\n</table>\n<p>176332 rows × 58 columns</p>\n</div>"
     },
     "execution_count": 11,
     "metadata": {},
     "output_type": "execute_result"
    }
   ],
   "source": [
    "contact_filtered_df"
   ],
   "metadata": {
    "collapsed": false
   }
  },
  {
   "cell_type": "code",
   "execution_count": 20,
   "outputs": [
    {
     "data": {
      "text/plain": "26386"
     },
     "execution_count": 20,
     "metadata": {},
     "output_type": "execute_result"
    }
   ],
   "source": [
    "charge_filter = (df.type_of_swing_str == 'Charge')\n",
    "slap_filter = (df.type_of_swing_str == 'Slap')\n",
    "star_filter = (df.type_of_swing_str == 'Star')\n",
    "none_filter = (df.type_of_swing_str == \"None\")\n",
    "\n",
    "df[charge_filter].hit.sum()"
   ],
   "metadata": {
    "collapsed": false
   }
  },
  {
   "cell_type": "code",
   "execution_count": 21,
   "outputs": [
    {
     "data": {
      "text/plain": "38984"
     },
     "execution_count": 21,
     "metadata": {},
     "output_type": "execute_result"
    }
   ],
   "source": [
    "df[charge_filter].out.sum()"
   ],
   "metadata": {
    "collapsed": false
   }
  },
  {
   "cell_type": "code",
   "execution_count": 24,
   "outputs": [
    {
     "data": {
      "text/plain": "0"
     },
     "execution_count": 24,
     "metadata": {},
     "output_type": "execute_result"
    }
   ],
   "source": [
    "df[none_filter].value_counts().sum()"
   ],
   "metadata": {
    "collapsed": false
   }
  },
  {
   "cell_type": "code",
   "execution_count": 32,
   "outputs": [
    {
     "ename": "KeyError",
     "evalue": "True",
     "output_type": "error",
     "traceback": [
      "\u001B[1;31m---------------------------------------------------------------------------\u001B[0m",
      "\u001B[1;31mKeyError\u001B[0m                                  Traceback (most recent call last)",
      "File \u001B[1;32m~\\PycharmProjects\\project_rio_lib\\venv\\Lib\\site-packages\\pandas\\core\\indexes\\base.py:3802\u001B[0m, in \u001B[0;36mIndex.get_loc\u001B[1;34m(self, key, method, tolerance)\u001B[0m\n\u001B[0;32m   3801\u001B[0m \u001B[38;5;28;01mtry\u001B[39;00m:\n\u001B[1;32m-> 3802\u001B[0m     \u001B[38;5;28;01mreturn\u001B[39;00m \u001B[38;5;28;43mself\u001B[39;49m\u001B[38;5;241;43m.\u001B[39;49m\u001B[43m_engine\u001B[49m\u001B[38;5;241;43m.\u001B[39;49m\u001B[43mget_loc\u001B[49m\u001B[43m(\u001B[49m\u001B[43mcasted_key\u001B[49m\u001B[43m)\u001B[49m\n\u001B[0;32m   3803\u001B[0m \u001B[38;5;28;01mexcept\u001B[39;00m \u001B[38;5;167;01mKeyError\u001B[39;00m \u001B[38;5;28;01mas\u001B[39;00m err:\n",
      "File \u001B[1;32m~\\PycharmProjects\\project_rio_lib\\venv\\Lib\\site-packages\\pandas\\_libs\\index.pyx:138\u001B[0m, in \u001B[0;36mpandas._libs.index.IndexEngine.get_loc\u001B[1;34m()\u001B[0m\n",
      "File \u001B[1;32m~\\PycharmProjects\\project_rio_lib\\venv\\Lib\\site-packages\\pandas\\_libs\\index.pyx:165\u001B[0m, in \u001B[0;36mpandas._libs.index.IndexEngine.get_loc\u001B[1;34m()\u001B[0m\n",
      "File \u001B[1;32mpandas\\_libs\\hashtable_class_helper.pxi:5745\u001B[0m, in \u001B[0;36mpandas._libs.hashtable.PyObjectHashTable.get_item\u001B[1;34m()\u001B[0m\n",
      "File \u001B[1;32mpandas\\_libs\\hashtable_class_helper.pxi:5753\u001B[0m, in \u001B[0;36mpandas._libs.hashtable.PyObjectHashTable.get_item\u001B[1;34m()\u001B[0m\n",
      "\u001B[1;31mKeyError\u001B[0m: True",
      "\nThe above exception was the direct cause of the following exception:\n",
      "\u001B[1;31mKeyError\u001B[0m                                  Traceback (most recent call last)",
      "Cell \u001B[1;32mIn[32], line 9\u001B[0m\n\u001B[0;32m      5\u001B[0m res[\u001B[38;5;124m'\u001B[39m\u001B[38;5;124mavg\u001B[39m\u001B[38;5;124m'\u001B[39m] \u001B[38;5;241m=\u001B[39m res[\u001B[38;5;124m'\u001B[39m\u001B[38;5;124mhit_count\u001B[39m\u001B[38;5;124m'\u001B[39m] \u001B[38;5;241m/\u001B[39m (res[\u001B[38;5;124m'\u001B[39m\u001B[38;5;124mhit_count\u001B[39m\u001B[38;5;124m'\u001B[39m] \u001B[38;5;241m+\u001B[39m res[\u001B[38;5;124m'\u001B[39m\u001B[38;5;124mout_count\u001B[39m\u001B[38;5;124m'\u001B[39m])\n\u001B[0;32m      7\u001B[0m res\u001B[38;5;241m.\u001B[39mreset_index(inplace\u001B[38;5;241m=\u001B[39m\u001B[38;5;28;01mTrue\u001B[39;00m)\n\u001B[1;32m----> 9\u001B[0m \u001B[43mres\u001B[49m\u001B[43m[\u001B[49m\u001B[43mres\u001B[49m\u001B[38;5;241;43m.\u001B[39;49m\u001B[43mhit_count\u001B[49m\u001B[38;5;241;43m.\u001B[39;49m\u001B[43msum\u001B[49m\u001B[43m(\u001B[49m\u001B[43m)\u001B[49m\u001B[43m \u001B[49m\u001B[38;5;241;43m+\u001B[39;49m\u001B[43m \u001B[49m\u001B[43mres\u001B[49m\u001B[38;5;241;43m.\u001B[39;49m\u001B[43mout_count\u001B[49m\u001B[38;5;241;43m.\u001B[39;49m\u001B[43msum\u001B[49m\u001B[43m(\u001B[49m\u001B[43m)\u001B[49m\u001B[43m \u001B[49m\u001B[38;5;241;43m>\u001B[39;49m\u001B[43m \u001B[49m\u001B[38;5;241;43m100\u001B[39;49m\u001B[43m]\u001B[49m\n",
      "File \u001B[1;32m~\\PycharmProjects\\project_rio_lib\\venv\\Lib\\site-packages\\pandas\\core\\frame.py:3807\u001B[0m, in \u001B[0;36mDataFrame.__getitem__\u001B[1;34m(self, key)\u001B[0m\n\u001B[0;32m   3805\u001B[0m \u001B[38;5;28;01mif\u001B[39;00m \u001B[38;5;28mself\u001B[39m\u001B[38;5;241m.\u001B[39mcolumns\u001B[38;5;241m.\u001B[39mnlevels \u001B[38;5;241m>\u001B[39m \u001B[38;5;241m1\u001B[39m:\n\u001B[0;32m   3806\u001B[0m     \u001B[38;5;28;01mreturn\u001B[39;00m \u001B[38;5;28mself\u001B[39m\u001B[38;5;241m.\u001B[39m_getitem_multilevel(key)\n\u001B[1;32m-> 3807\u001B[0m indexer \u001B[38;5;241m=\u001B[39m \u001B[38;5;28;43mself\u001B[39;49m\u001B[38;5;241;43m.\u001B[39;49m\u001B[43mcolumns\u001B[49m\u001B[38;5;241;43m.\u001B[39;49m\u001B[43mget_loc\u001B[49m\u001B[43m(\u001B[49m\u001B[43mkey\u001B[49m\u001B[43m)\u001B[49m\n\u001B[0;32m   3808\u001B[0m \u001B[38;5;28;01mif\u001B[39;00m is_integer(indexer):\n\u001B[0;32m   3809\u001B[0m     indexer \u001B[38;5;241m=\u001B[39m [indexer]\n",
      "File \u001B[1;32m~\\PycharmProjects\\project_rio_lib\\venv\\Lib\\site-packages\\pandas\\core\\indexes\\base.py:3804\u001B[0m, in \u001B[0;36mIndex.get_loc\u001B[1;34m(self, key, method, tolerance)\u001B[0m\n\u001B[0;32m   3802\u001B[0m     \u001B[38;5;28;01mreturn\u001B[39;00m \u001B[38;5;28mself\u001B[39m\u001B[38;5;241m.\u001B[39m_engine\u001B[38;5;241m.\u001B[39mget_loc(casted_key)\n\u001B[0;32m   3803\u001B[0m \u001B[38;5;28;01mexcept\u001B[39;00m \u001B[38;5;167;01mKeyError\u001B[39;00m \u001B[38;5;28;01mas\u001B[39;00m err:\n\u001B[1;32m-> 3804\u001B[0m     \u001B[38;5;28;01mraise\u001B[39;00m \u001B[38;5;167;01mKeyError\u001B[39;00m(key) \u001B[38;5;28;01mfrom\u001B[39;00m \u001B[38;5;21;01merr\u001B[39;00m\n\u001B[0;32m   3805\u001B[0m \u001B[38;5;28;01mexcept\u001B[39;00m \u001B[38;5;167;01mTypeError\u001B[39;00m:\n\u001B[0;32m   3806\u001B[0m     \u001B[38;5;66;03m# If we have a listlike key, _check_indexing_error will raise\u001B[39;00m\n\u001B[0;32m   3807\u001B[0m     \u001B[38;5;66;03m#  InvalidIndexError. Otherwise we fall through and re-raise\u001B[39;00m\n\u001B[0;32m   3808\u001B[0m     \u001B[38;5;66;03m#  the TypeError.\u001B[39;00m\n\u001B[0;32m   3809\u001B[0m     \u001B[38;5;28mself\u001B[39m\u001B[38;5;241m.\u001B[39m_check_indexing_error(key)\n",
      "\u001B[1;31mKeyError\u001B[0m: True"
     ]
    }
   ],
   "source": [
    "res = df[contact_filter & charge_filter].groupby(['batter_char_id_str']).agg(\n",
    "    hit_count=('hit', 'sum'),\n",
    "    out_count=('out', 'sum')\n",
    ")\n",
    "res['avg'] = res['hit_count'] / (res['hit_count'] + res['out_count'])\n",
    "\n",
    "res.reset_index(inplace=True)\n",
    "\n",
    "res[res.hit_count + res.out_count) > 100]"
   ],
   "metadata": {
    "collapsed": false
   }
  },
  {
   "cell_type": "code",
   "execution_count": null,
   "outputs": [],
   "source": [],
   "metadata": {
    "collapsed": false
   }
  }
 ],
 "metadata": {
  "kernelspec": {
   "display_name": "Python 3",
   "language": "python",
   "name": "python3"
  },
  "language_info": {
   "codemirror_mode": {
    "name": "ipython",
    "version": 2
   },
   "file_extension": ".py",
   "mimetype": "text/x-python",
   "name": "python",
   "nbconvert_exporter": "python",
   "pygments_lexer": "ipython2",
   "version": "2.7.6"
  }
 },
 "nbformat": 4,
 "nbformat_minor": 0
}
